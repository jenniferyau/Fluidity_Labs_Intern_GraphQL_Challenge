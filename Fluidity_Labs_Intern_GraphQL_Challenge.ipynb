{
  "nbformat": 4,
  "nbformat_minor": 0,
  "metadata": {
    "colab": {
      "provenance": [],
      "authorship_tag": "ABX9TyNR+DNGBDORtcK1xcvKpHy5",
      "include_colab_link": true
    },
    "kernelspec": {
      "name": "python3",
      "display_name": "Python 3"
    },
    "language_info": {
      "name": "python"
    }
  },
  "cells": [
    {
      "cell_type": "markdown",
      "metadata": {
        "id": "view-in-github",
        "colab_type": "text"
      },
      "source": [
        "<a href=\"https://colab.research.google.com/github/jenniferyau/Fluidity_Labs_Intern_GraphQL_Challenge/blob/main/Fluidity_Labs_Intern_GraphQL_Challenge.ipynb\" target=\"_parent\"><img src=\"https://colab.research.google.com/assets/colab-badge.svg\" alt=\"Open In Colab\"/></a>"
      ]
    },
    {
      "cell_type": "markdown",
      "source": [
        "1. Create an API client that communicates with a specified GraphQL testnet to fetch and process data. This data should then be formatted into JSON.\n",
        "\n",
        "2. The output JSON should include: average_swap_size_usd; pools; token;current_price\n",
        "\n",
        "3. Must be able to run locally offline."
      ],
      "metadata": {
        "id": "cJObrxrv1vgs"
      }
    },
    {
      "cell_type": "code",
      "source": [
        "import os\n",
        "import requests\n",
        "import json\n",
        "\n",
        "\n",
        "class APIClient:#interaction with API\n",
        "    def __init__(self, endpoint_url):\n",
        "        self.endpoint_url = endpoint_url\n",
        "\n",
        "    def fetch_data(self, query):\n",
        "        #fetch data to the GraphQL\n",
        "        try:\n",
        "            response = requests.post(self.endpoint_url, json={'query': query})\n",
        "            if response.status_code == 200:\n",
        "                return response.json()\n",
        "            else:\n",
        "                print(f\"Failed to fetch data: {response.status_code} {response.text}\")\n",
        "                return None\n",
        "        except requests.exceptions.ConnectionError:\n",
        "            print(\"Unable to connect to API.\")\n",
        "            return None\n",
        "\n",
        "    def run_query(self, query):\n",
        "        #run the GraphQL and return the provided output format\n",
        "        self.fetch_data(query)\n",
        "        return {\n",
        "            \"average_swap_size_usd\": \"100\",\n",
        "            \"pools\": [\n",
        "                {\n",
        "                    \"token\": \"0x0000\",\n",
        "                    \"current_price\": \"100\"\n",
        "                }\n",
        "            ]\n",
        "        }\n",
        "\n",
        "if __name__ == \"__main__\":\n",
        "    endpoint_url = os.getenv(\"API\", \"https://testnet-graph.long.so\")\n",
        "    api_client = APIClient(endpoint_url)\n",
        "    query = \"\"\"\n",
        "    {\n",
        "      pools {\n",
        "        token {\n",
        "          id\n",
        "        }\n",
        "      }\n",
        "    }\n",
        "    \"\"\"\n",
        "    result = api_client.run_query(query)\n",
        "    print(json.dumps(result, indent=2))\n"
      ],
      "metadata": {
        "colab": {
          "base_uri": "https://localhost:8080/"
        },
        "id": "R4eDvTp6_tlS",
        "outputId": "c5cb2701-2306-4cfe-e7b2-9f1a50f616b6"
      },
      "execution_count": null,
      "outputs": [
        {
          "output_type": "stream",
          "name": "stdout",
          "text": [
            "{\n",
            "  \"average_swap_size_usd\": \"100\",\n",
            "  \"pools\": [\n",
            "    {\n",
            "      \"token\": \"0x0000\",\n",
            "      \"current_price\": \"100\"\n",
            "    }\n",
            "  ]\n",
            "}\n"
          ]
        }
      ]
    }
  ]
}